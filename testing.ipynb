{
 "cells": [
  {
   "cell_type": "code",
   "execution_count": 5,
   "metadata": {},
   "outputs": [],
   "source": [
    "#TODO: generate hsi dummy data => run inference.py => will produce output.\n",
    "#  then replace their data with my data in same folder structure and run inference.py again. Need to have data_stats.json and mapping.json as well\n",
    "\n",
    "#current: error File \"C:\\Users\\jedwinne\\udt\\Lib\\site-packages\\pytorch_lightning\\core\\saving.py\", line 169, in _load_state\n",
    "#     keys = obj.load_state_dict(checkpoint[\"state_dict\"], strict=strict)\n",
    "#            ^^^^^^^^^^^^^^^^^^^^^^^^^^^^^^^^^^^^^^^^^^^^^^^^^^^^^^^^^^^^\n",
    "#   File \"C:\\Users\\jedwinne\\udt\\Lib\\site-packages\\torch\\nn\\modules\\module.py\", line 2152, in load_state_dict\n",
    "#     raise RuntimeError('Error(s) in loading state_dict for {}:\\n\\t{}'.format(\n",
    "# RuntimeError: Error(s) in loading state_dict for GanCondinitionalDomainAdaptationINNHSI:\n",
    "#         size mismatch for model.module_list.0.w_perm: copying a param with shape torch.Size([100, 100]) from checkpoint, the shape in current model is torch.Size([100]).\n",
    "\n",
    "\n",
    "# => check wat er in C:\\Users\\jedwinne\\OneDrive - UGent\\PhD-UG-8HYNGY3\\Data\\publication_data_dreher_DT\\publication_data\\simulated_data\\HSI_Data\\intermediates\\semantic_v2\\train\n",
    "import pandas as pd\n",
    "import numpy as np\n",
    "# https://github.com/IMSY-DKFZ/UDT-cINN"
   ]
  },
  {
   "cell_type": "code",
   "execution_count": 6,
   "metadata": {},
   "outputs": [],
   "source": [
    "df1 = pd.read_pickle('C:/Users/jedwinne/OneDrive - UGent/Documents/GitHub/PersonalProjects/Oxygenation_AI/simulations_data/data_training_20k_samples_phantom_resampling.pkl')\n",
    "ddf2 = pd.read_pickle('C:/Users/jedwinne/OneDrive - UGent/Documents/GitHub/PersonalProjects/Oxygenation_AI/simulations_data/data_training_20k_samples_phantom_fullconversion.pkl')\n",
    "\n",
    "df_real = np.load('C:/Users/jedwinne/OneDrive - UGent/Documents/GitHub/PersonalProjects/Tissue phantom/training_average_sato2.npy')"
   ]
  },
  {
   "cell_type": "code",
   "execution_count": 3,
   "metadata": {},
   "outputs": [
    {
     "data": {
      "text/plain": [
       "array([ 0.13311157,  0.1342994 ,  0.13923561,  0.13931563,  0.13828361,\n",
       "        0.1347193 ,  0.13295972,  0.13026296,  0.12813049,  0.12365318,\n",
       "        0.12561907,  0.12599979,  0.12710453,  0.12983072,  0.13937999,\n",
       "       29.        ])"
      ]
     },
     "execution_count": 3,
     "metadata": {},
     "output_type": "execute_result"
    }
   ],
   "source": [
    "df_real[0]"
   ]
  },
  {
   "cell_type": "code",
   "execution_count": null,
   "metadata": {},
   "outputs": [],
   "source": [
    "C:/Users/jedwinne/OneDrive - UGent/PhD-UG-8HYNGY3/Data/publication_data_dreher_DT/publication_data/simulated_data/HSI_Data/intermediates/semantic_v2"
   ]
  }
 ],
 "metadata": {
  "kernelspec": {
   "display_name": "htc",
   "language": "python",
   "name": "python3"
  },
  "language_info": {
   "codemirror_mode": {
    "name": "ipython",
    "version": 3
   },
   "file_extension": ".py",
   "mimetype": "text/x-python",
   "name": "python",
   "nbconvert_exporter": "python",
   "pygments_lexer": "ipython3",
   "version": "3.11.5"
  }
 },
 "nbformat": 4,
 "nbformat_minor": 2
}
